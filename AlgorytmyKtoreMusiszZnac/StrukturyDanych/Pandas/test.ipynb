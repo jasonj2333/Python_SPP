{
 "cells": [
  {
   "cell_type": "code",
   "execution_count": 12,
   "id": "b43f109f",
   "metadata": {},
   "outputs": [
    {
     "name": "stdout",
     "output_type": "stream",
     "text": [
      "czesc1\n"
     ]
    }
   ],
   "source": [
    "print(\"czesc1\")"
   ]
  },
  {
   "cell_type": "markdown",
   "id": "e1f6bc77",
   "metadata": {},
   "source": [
    "Podstawowe uzycie funkcji print"
   ]
  },
  {
   "cell_type": "code",
   "execution_count": 13,
   "id": "c8d1bbbc",
   "metadata": {},
   "outputs": [],
   "source": [
    "list = range(1,12)"
   ]
  },
  {
   "cell_type": "code",
   "execution_count": 14,
   "id": "925c9b70",
   "metadata": {},
   "outputs": [
    {
     "name": "stdout",
     "output_type": "stream",
     "text": [
      "1\n",
      "2\n",
      "3\n",
      "4\n",
      "5\n",
      "6\n",
      "7\n",
      "8\n",
      "9\n",
      "10\n",
      "11\n"
     ]
    }
   ],
   "source": [
    "for i in list:\n",
    "    print(i)"
   ]
  }
 ],
 "metadata": {
  "kernelspec": {
   "display_name": "Python 3",
   "language": "python",
   "name": "python3"
  },
  "language_info": {
   "codemirror_mode": {
    "name": "ipython",
    "version": 3
   },
   "file_extension": ".py",
   "mimetype": "text/x-python",
   "name": "python",
   "nbconvert_exporter": "python",
   "pygments_lexer": "ipython3",
   "version": "3.13.3"
  }
 },
 "nbformat": 4,
 "nbformat_minor": 5
}
